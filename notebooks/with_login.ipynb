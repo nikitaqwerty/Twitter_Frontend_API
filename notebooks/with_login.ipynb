{
 "cells": [
  {
   "cell_type": "code",
   "execution_count": 5,
   "metadata": {},
   "outputs": [],
   "source": [
    "from Twitter_Frontend_API import API\n",
    "from dotenv import load_dotenv,dotenv_values\n",
    "load_dotenv('..')\n",
    "config = dotenv_values()"
   ]
  },
  {
   "cell_type": "code",
   "execution_count": 6,
   "metadata": {},
   "outputs": [
    {
     "ename": "ModuleNotFoundError",
     "evalue": "No module named 'jsondiff'",
     "output_type": "error",
     "traceback": [
      "\u001b[0;31m---------------------------------------------------------------------------\u001b[0m",
      "\u001b[0;31mModuleNotFoundError\u001b[0m                       Traceback (most recent call last)",
      "\u001b[0;32m<ipython-input-6-ad47efc58427>\u001b[0m in \u001b[0;36m<module>\u001b[0;34m\u001b[0m\n\u001b[0;32m----> 1\u001b[0;31m \u001b[0;32mfrom\u001b[0m \u001b[0mjsondiff\u001b[0m \u001b[0;32mimport\u001b[0m \u001b[0mdiff\u001b[0m\u001b[0;34m\u001b[0m\u001b[0;34m\u001b[0m\u001b[0m\n\u001b[0m\u001b[1;32m      2\u001b[0m \u001b[0mdiff\u001b[0m\u001b[0;34m(\u001b[0m\u001b[0mjson1\u001b[0m\u001b[0;34m,\u001b[0m \u001b[0mjson2\u001b[0m\u001b[0;34m)\u001b[0m\u001b[0;34m\u001b[0m\u001b[0;34m\u001b[0m\u001b[0m\n",
      "\u001b[0;31mModuleNotFoundError\u001b[0m: No module named 'jsondiff'"
     ]
    }
   ],
   "source": [
    "from jsondiff import diff"
   ]
  },
  {
   "cell_type": "code",
   "execution_count": 4,
   "metadata": {},
   "outputs": [
    {
     "ename": "NameError",
     "evalue": "name 'ua' is not defined",
     "output_type": "error",
     "traceback": [
      "\u001b[0;31m---------------------------------------------------------------------------\u001b[0m",
      "\u001b[0;31mNameError\u001b[0m                                 Traceback (most recent call last)",
      "\u001b[0;32m<ipython-input-4-2eba2a8f97c2>\u001b[0m in \u001b[0;36m<module>\u001b[0;34m\u001b[0m\n\u001b[1;32m      1\u001b[0m \u001b[0mauth\u001b[0m \u001b[0;34m=\u001b[0m \u001b[0;34m{\u001b[0m\u001b[0;34m'auth_token'\u001b[0m\u001b[0;34m:\u001b[0m \u001b[0;34m'----------------------------------------'\u001b[0m\u001b[0;34m,\u001b[0m \u001b[0;34m'ct0'\u001b[0m\u001b[0;34m:\u001b[0m \u001b[0;34m'--------------------------------'\u001b[0m\u001b[0;34m}\u001b[0m\u001b[0;34m\u001b[0m\u001b[0;34m\u001b[0m\u001b[0m\n\u001b[0;32m----> 2\u001b[0;31m \u001b[0mauth\u001b[0m \u001b[0;34m=\u001b[0m \u001b[0mAPI\u001b[0m\u001b[0;34m.\u001b[0m\u001b[0mLogin\u001b[0m\u001b[0;34m(\u001b[0m\u001b[0mconfig\u001b[0m\u001b[0;34m[\u001b[0m\u001b[0;34m'TWITTER_LOGIN'\u001b[0m\u001b[0;34m]\u001b[0m\u001b[0;34m,\u001b[0m \u001b[0mconfig\u001b[0m\u001b[0;34m[\u001b[0m\u001b[0;34m'TWITTER_PASS'\u001b[0m\u001b[0;34m]\u001b[0m\u001b[0;34m)\u001b[0m\u001b[0;34m\u001b[0m\u001b[0;34m\u001b[0m\u001b[0m\n\u001b[0m\u001b[1;32m      3\u001b[0m \u001b[0mprint\u001b[0m\u001b[0;34m(\u001b[0m\u001b[0mauth\u001b[0m\u001b[0;34m)\u001b[0m\u001b[0;34m\u001b[0m\u001b[0;34m\u001b[0m\u001b[0m\n\u001b[1;32m      4\u001b[0m \u001b[0;34m\u001b[0m\u001b[0m\n\u001b[1;32m      5\u001b[0m \u001b[0mapi\u001b[0m \u001b[0;34m=\u001b[0m \u001b[0mAPI\u001b[0m\u001b[0;34m(\u001b[0m\u001b[0mauth\u001b[0m\u001b[0;34m)\u001b[0m\u001b[0;34m\u001b[0m\u001b[0;34m\u001b[0m\u001b[0m\n",
      "\u001b[0;32m~/projects/Twitter_Frontend_API/Twitter_Frontend_API/main.py\u001b[0m in \u001b[0;36mLogin\u001b[0;34m(session_u, session_p)\u001b[0m\n\u001b[1;32m    659\u001b[0m         headers = {\n\u001b[1;32m    660\u001b[0m             \u001b[0;34m'cookie'\u001b[0m\u001b[0;34m:\u001b[0m \u001b[0;34m'_mb_tk='\u001b[0m \u001b[0;34m+\u001b[0m \u001b[0mauthenticity\u001b[0m\u001b[0;34m,\u001b[0m\u001b[0;34m\u001b[0m\u001b[0;34m\u001b[0m\u001b[0m\n\u001b[0;32m--> 661\u001b[0;31m             \u001b[0;34m'User-Agent'\u001b[0m\u001b[0;34m:\u001b[0m \u001b[0mua\u001b[0m\u001b[0;34m.\u001b[0m\u001b[0mrandom\u001b[0m\u001b[0;34m\u001b[0m\u001b[0;34m\u001b[0m\u001b[0m\n\u001b[0m\u001b[1;32m    662\u001b[0m         }\n\u001b[1;32m    663\u001b[0m \u001b[0;34m\u001b[0m\u001b[0m\n",
      "\u001b[0;31mNameError\u001b[0m: name 'ua' is not defined"
     ]
    }
   ],
   "source": [
    "auth = {'auth_token': '----------------------------------------', 'ct0': '--------------------------------'}\n",
    "auth = API.Login(config['TWITTER_LOGIN'], config['TWITTER_PASS'])\n",
    "print(auth)\n",
    "\n",
    "api = API(auth)\n",
    "\n",
    "# print(api.generate_ct0())\n",
    "# print(api.generate_authenticity())\n",
    "# print(api.generate_token())"
   ]
  },
  {
   "cell_type": "code",
   "execution_count": 6,
   "metadata": {},
   "outputs": [
    {
     "name": "stdout",
     "output_type": "stream",
     "text": [
      "{'id': 532561541, 'id_str': '532561541', 'name': 'Nikita', 'screen_name': 'Nikita_naprimer', 'location': 'Dubai, United Arab Emirates', 'profile_location': None, 'description': 'Solidity & Blockchain dev / co-founder @artisantnft /  NFTs + Digital Fashion + Data Science', 'url': None, 'entities': {'description': {'urls': []}}, 'protected': False, 'followers_count': 1075, 'fast_followers_count': 0, 'normal_followers_count': 1075, 'friends_count': 1557, 'listed_count': 8, 'created_at': 'Wed Mar 21 21:12:45 +0000 2012', 'favourites_count': 474, 'utc_offset': None, 'time_zone': None, 'geo_enabled': True, 'verified': False, 'statuses_count': 151, 'media_count': 32, 'lang': None, 'status': {'created_at': 'Mon Sep 19 05:37:51 +0000 2022', 'id': 1571735299016859651, 'id_str': '1571735299016859651', 'text': 'Oh my god\\nThis $ETH post merge pump looks crazy https://t.co/KO4H1mKp6A', 'truncated': False, 'entities': {'hashtags': [], 'symbols': [{'text': 'ETH', 'indices': [15, 19]}], 'user_mentions': [], 'urls': [], 'media': [{'id': 1571735291261493250, 'id_str': '1571735291261493250', 'indices': [48, 71], 'media_url': 'http://pbs.twimg.com/media/Fc_s64SWIAIy3wX.jpg', 'media_url_https': 'https://pbs.twimg.com/media/Fc_s64SWIAIy3wX.jpg', 'url': 'https://t.co/KO4H1mKp6A', 'display_url': 'pic.twitter.com/KO4H1mKp6A', 'expanded_url': 'https://twitter.com/Nikita_naprimer/status/1571735299016859651/photo/1', 'type': 'photo', 'original_info': {'width': 946, 'height': 2048, 'focus_rects': [{'x': 0, 'y': 1518, 'h': 530, 'w': 946}, {'x': 0, 'y': 1102, 'h': 946, 'w': 946}, {'x': 0, 'y': 970, 'h': 1078, 'w': 946}, {'x': 0, 'y': 156, 'h': 1892, 'w': 946}, {'x': 0, 'y': 0, 'h': 2048, 'w': 946}]}, 'sizes': {'thumb': {'w': 150, 'h': 150, 'resize': 'crop'}, 'medium': {'w': 554, 'h': 1200, 'resize': 'fit'}, 'large': {'w': 946, 'h': 2048, 'resize': 'fit'}, 'small': {'w': 314, 'h': 680, 'resize': 'fit'}}, 'features': {'medium': {'faces': []}, 'orig': {'faces': []}, 'large': {'faces': []}, 'small': {'faces': []}}}]}, 'extended_entities': {'media': [{'id': 1571735291261493250, 'id_str': '1571735291261493250', 'indices': [48, 71], 'media_url': 'http://pbs.twimg.com/media/Fc_s64SWIAIy3wX.jpg', 'media_url_https': 'https://pbs.twimg.com/media/Fc_s64SWIAIy3wX.jpg', 'url': 'https://t.co/KO4H1mKp6A', 'display_url': 'pic.twitter.com/KO4H1mKp6A', 'expanded_url': 'https://twitter.com/Nikita_naprimer/status/1571735299016859651/photo/1', 'type': 'photo', 'original_info': {'width': 946, 'height': 2048, 'focus_rects': [{'x': 0, 'y': 1518, 'h': 530, 'w': 946}, {'x': 0, 'y': 1102, 'h': 946, 'w': 946}, {'x': 0, 'y': 970, 'h': 1078, 'w': 946}, {'x': 0, 'y': 156, 'h': 1892, 'w': 946}, {'x': 0, 'y': 0, 'h': 2048, 'w': 946}]}, 'sizes': {'thumb': {'w': 150, 'h': 150, 'resize': 'crop'}, 'medium': {'w': 554, 'h': 1200, 'resize': 'fit'}, 'large': {'w': 946, 'h': 2048, 'resize': 'fit'}, 'small': {'w': 314, 'h': 680, 'resize': 'fit'}}, 'features': {'medium': {'faces': []}, 'orig': {'faces': []}, 'large': {'faces': []}, 'small': {'faces': []}}, 'media_key': '3_1571735291261493250'}]}, 'source': '<a href=\"http://twitter.com/download/iphone\" rel=\"nofollow\">Twitter for iPhone</a>', 'in_reply_to_status_id': None, 'in_reply_to_status_id_str': None, 'in_reply_to_user_id': None, 'in_reply_to_user_id_str': None, 'in_reply_to_screen_name': None, 'geo': None, 'coordinates': None, 'place': None, 'contributors': None, 'is_quote_status': False, 'retweet_count': 0, 'favorite_count': 1, 'favorited': False, 'retweeted': False, 'possibly_sensitive': False, 'possibly_sensitive_editable': True, 'lang': 'en', 'supplemental_language': None}, 'contributors_enabled': False, 'is_translator': False, 'is_translation_enabled': False, 'profile_background_color': '709397', 'profile_background_image_url': 'http://abs.twimg.com/images/themes/theme1/bg.png', 'profile_background_image_url_https': 'https://abs.twimg.com/images/themes/theme1/bg.png', 'profile_background_tile': True, 'profile_image_url': 'http://pbs.twimg.com/profile_images/1487075104072818693/qyKobc_s_normal.jpg', 'profile_image_url_https': 'https://pbs.twimg.com/profile_images/1487075104072818693/qyKobc_s_normal.jpg', 'profile_banner_url': 'https://pbs.twimg.com/profile_banners/532561541/1643382952', 'profile_link_color': 'FF3300', 'profile_sidebar_border_color': '000000', 'profile_sidebar_fill_color': 'DDEEF6', 'profile_text_color': '333333', 'profile_use_background_image': True, 'has_extended_profile': False, 'default_profile': False, 'default_profile_image': False, 'pinned_tweet_ids': [], 'pinned_tweet_ids_str': [], 'has_custom_timelines': False, 'can_media_tag': True, 'followed_by': False, 'following': False, 'follow_request_sent': False, 'notifications': False, 'advertiser_account_type': 'promotable_user', 'advertiser_account_service_levels': [], 'business_profile_state': 'none', 'translator_type': 'none', 'withheld_in_countries': [], 'require_some_consent': False}\n"
     ]
    }
   ],
   "source": [
    "print(api.user_info(screen_name=\"Nikita_naprimer\")) #print(api.user_info(user_id=\"783214\"))"
   ]
  },
  {
   "cell_type": "code",
   "execution_count": null,
   "metadata": {},
   "outputs": [],
   "source": [
    "# # FOLLOW\n",
    "# print(api.create_friendship(screen_name=\"OnChainWizard\")) #print(api.create_friendship(user_id=\"783214\"))\n",
    "# # LIKE\n",
    "# print(api.create_favorite(\"1568829690693169152\"))\n",
    "# # RETWEET\n",
    "# print(api.retweet(\"1526067314877157379\"))"
   ]
  },
  {
   "cell_type": "code",
   "execution_count": null,
   "metadata": {},
   "outputs": [],
   "source": []
  },
  {
   "cell_type": "code",
   "execution_count": 7,
   "metadata": {},
   "outputs": [],
   "source": [
    "from random import random\n"
   ]
  },
  {
   "cell_type": "code",
   "execution_count": 1,
   "metadata": {},
   "outputs": [
    {
     "ename": "NameError",
     "evalue": "name 'random' is not defined",
     "output_type": "error",
     "traceback": [
      "\u001b[0;31m---------------------------------------------------------------------------\u001b[0m",
      "\u001b[0;31mNameError\u001b[0m                                 Traceback (most recent call last)",
      "\u001b[0;32m<ipython-input-1-347a394b3b57>\u001b[0m in \u001b[0;36m<module>\u001b[0;34m\u001b[0m\n\u001b[0;32m----> 1\u001b[0;31m \u001b[0mrandom\u001b[0m\u001b[0;34m(\u001b[0m\u001b[0;34m)\u001b[0m\u001b[0;34m\u001b[0m\u001b[0;34m\u001b[0m\u001b[0m\n\u001b[0m",
      "\u001b[0;31mNameError\u001b[0m: name 'random' is not defined"
     ]
    }
   ],
   "source": [
    "random()"
   ]
  },
  {
   "cell_type": "code",
   "execution_count": null,
   "metadata": {},
   "outputs": [],
   "source": []
  }
 ],
 "metadata": {
  "kernelspec": {
   "display_name": "Python 3 (ipykernel)",
   "language": "python",
   "name": "python3"
  },
  "language_info": {
   "codemirror_mode": {
    "name": "ipython",
    "version": 3
   },
   "file_extension": ".py",
   "mimetype": "text/x-python",
   "name": "python",
   "nbconvert_exporter": "python",
   "pygments_lexer": "ipython3",
   "version": "3.10.4"
  }
 },
 "nbformat": 4,
 "nbformat_minor": 4
}
