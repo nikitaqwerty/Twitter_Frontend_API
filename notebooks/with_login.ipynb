{
 "cells": [
  {
   "cell_type": "code",
   "execution_count": 4,
   "metadata": {},
   "outputs": [],
   "source": [
    "from Twitter_Frontend_API import API\n",
    "from dotenv import load_dotenv,dotenv_values\n",
    "load_dotenv('..')\n",
    "config = dotenv_values()"
   ]
  },
  {
   "cell_type": "code",
   "execution_count": 5,
   "metadata": {},
   "outputs": [
    {
     "name": "stdout",
     "output_type": "stream",
     "text": [
      "<html><body>You are being <a href=\"https://twitter.com/\">redirected</a>.</body></html>\n",
      "{'auth_token': 'b19b58c718620dab5ce730d86e498cfaca530c27', 'ct0': '60fa41efb69bc81c4782c0e634815e7a'}\n",
      "12bdaafecbac38acbcfd319bf4812688\n",
      "7e00ac37277fa68b08e8551ca72a10722032d501\n",
      "{'guest_token': '1571819710332780546'}\n"
     ]
    }
   ],
   "source": [
    "auth = {'auth_token': '----------------------------------------', 'ct0': '--------------------------------'}\n",
    "auth = API.Login(config['TWITTER_LOGIN'], config['TWITTER_PASS'])\n",
    "print(auth)\n",
    "\n",
    "api = API(auth)\n",
    "\n",
    "print(api.generate_ct0())\n",
    "print(api.generate_authenticity())\n",
    "print(api.generate_token())"
   ]
  },
  {
   "cell_type": "code",
   "execution_count": 6,
   "metadata": {},
   "outputs": [
    {
     "name": "stdout",
     "output_type": "stream",
     "text": [
      "{'id': 532561541, 'id_str': '532561541', 'name': 'Nikita', 'screen_name': 'Nikita_naprimer', 'location': 'Dubai, United Arab Emirates', 'profile_location': None, 'description': 'Solidity & Blockchain dev / co-founder @artisantnft /  NFTs + Digital Fashion + Data Science', 'url': None, 'entities': {'description': {'urls': []}}, 'protected': False, 'followers_count': 1075, 'fast_followers_count': 0, 'normal_followers_count': 1075, 'friends_count': 1557, 'listed_count': 8, 'created_at': 'Wed Mar 21 21:12:45 +0000 2012', 'favourites_count': 474, 'utc_offset': None, 'time_zone': None, 'geo_enabled': True, 'verified': False, 'statuses_count': 151, 'media_count': 32, 'lang': None, 'status': {'created_at': 'Mon Sep 19 05:37:51 +0000 2022', 'id': 1571735299016859651, 'id_str': '1571735299016859651', 'text': 'Oh my god\\nThis $ETH post merge pump looks crazy https://t.co/KO4H1mKp6A', 'truncated': False, 'entities': {'hashtags': [], 'symbols': [{'text': 'ETH', 'indices': [15, 19]}], 'user_mentions': [], 'urls': [], 'media': [{'id': 1571735291261493250, 'id_str': '1571735291261493250', 'indices': [48, 71], 'media_url': 'http://pbs.twimg.com/media/Fc_s64SWIAIy3wX.jpg', 'media_url_https': 'https://pbs.twimg.com/media/Fc_s64SWIAIy3wX.jpg', 'url': 'https://t.co/KO4H1mKp6A', 'display_url': 'pic.twitter.com/KO4H1mKp6A', 'expanded_url': 'https://twitter.com/Nikita_naprimer/status/1571735299016859651/photo/1', 'type': 'photo', 'original_info': {'width': 946, 'height': 2048, 'focus_rects': [{'x': 0, 'y': 1518, 'h': 530, 'w': 946}, {'x': 0, 'y': 1102, 'h': 946, 'w': 946}, {'x': 0, 'y': 970, 'h': 1078, 'w': 946}, {'x': 0, 'y': 156, 'h': 1892, 'w': 946}, {'x': 0, 'y': 0, 'h': 2048, 'w': 946}]}, 'sizes': {'thumb': {'w': 150, 'h': 150, 'resize': 'crop'}, 'medium': {'w': 554, 'h': 1200, 'resize': 'fit'}, 'large': {'w': 946, 'h': 2048, 'resize': 'fit'}, 'small': {'w': 314, 'h': 680, 'resize': 'fit'}}, 'features': {'medium': {'faces': []}, 'orig': {'faces': []}, 'large': {'faces': []}, 'small': {'faces': []}}}]}, 'extended_entities': {'media': [{'id': 1571735291261493250, 'id_str': '1571735291261493250', 'indices': [48, 71], 'media_url': 'http://pbs.twimg.com/media/Fc_s64SWIAIy3wX.jpg', 'media_url_https': 'https://pbs.twimg.com/media/Fc_s64SWIAIy3wX.jpg', 'url': 'https://t.co/KO4H1mKp6A', 'display_url': 'pic.twitter.com/KO4H1mKp6A', 'expanded_url': 'https://twitter.com/Nikita_naprimer/status/1571735299016859651/photo/1', 'type': 'photo', 'original_info': {'width': 946, 'height': 2048, 'focus_rects': [{'x': 0, 'y': 1518, 'h': 530, 'w': 946}, {'x': 0, 'y': 1102, 'h': 946, 'w': 946}, {'x': 0, 'y': 970, 'h': 1078, 'w': 946}, {'x': 0, 'y': 156, 'h': 1892, 'w': 946}, {'x': 0, 'y': 0, 'h': 2048, 'w': 946}]}, 'sizes': {'thumb': {'w': 150, 'h': 150, 'resize': 'crop'}, 'medium': {'w': 554, 'h': 1200, 'resize': 'fit'}, 'large': {'w': 946, 'h': 2048, 'resize': 'fit'}, 'small': {'w': 314, 'h': 680, 'resize': 'fit'}}, 'features': {'medium': {'faces': []}, 'orig': {'faces': []}, 'large': {'faces': []}, 'small': {'faces': []}}, 'media_key': '3_1571735291261493250'}]}, 'source': '<a href=\"http://twitter.com/download/iphone\" rel=\"nofollow\">Twitter for iPhone</a>', 'in_reply_to_status_id': None, 'in_reply_to_status_id_str': None, 'in_reply_to_user_id': None, 'in_reply_to_user_id_str': None, 'in_reply_to_screen_name': None, 'geo': None, 'coordinates': None, 'place': None, 'contributors': None, 'is_quote_status': False, 'retweet_count': 0, 'favorite_count': 1, 'favorited': False, 'retweeted': False, 'possibly_sensitive': False, 'possibly_sensitive_editable': True, 'lang': 'en', 'supplemental_language': None}, 'contributors_enabled': False, 'is_translator': False, 'is_translation_enabled': False, 'profile_background_color': '709397', 'profile_background_image_url': 'http://abs.twimg.com/images/themes/theme1/bg.png', 'profile_background_image_url_https': 'https://abs.twimg.com/images/themes/theme1/bg.png', 'profile_background_tile': True, 'profile_image_url': 'http://pbs.twimg.com/profile_images/1487075104072818693/qyKobc_s_normal.jpg', 'profile_image_url_https': 'https://pbs.twimg.com/profile_images/1487075104072818693/qyKobc_s_normal.jpg', 'profile_banner_url': 'https://pbs.twimg.com/profile_banners/532561541/1643382952', 'profile_link_color': 'FF3300', 'profile_sidebar_border_color': '000000', 'profile_sidebar_fill_color': 'DDEEF6', 'profile_text_color': '333333', 'profile_use_background_image': True, 'has_extended_profile': False, 'default_profile': False, 'default_profile_image': False, 'pinned_tweet_ids': [], 'pinned_tweet_ids_str': [], 'has_custom_timelines': False, 'can_media_tag': True, 'followed_by': False, 'following': False, 'follow_request_sent': False, 'notifications': False, 'advertiser_account_type': 'promotable_user', 'advertiser_account_service_levels': [], 'business_profile_state': 'none', 'translator_type': 'none', 'withheld_in_countries': [], 'require_some_consent': False}\n"
     ]
    }
   ],
   "source": [
    "print(api.user_info(screen_name=\"Nikita_naprimer\")) #print(api.user_info(user_id=\"783214\"))"
   ]
  },
  {
   "cell_type": "code",
   "execution_count": null,
   "metadata": {},
   "outputs": [],
   "source": [
    "# # FOLLOW\n",
    "# print(api.create_friendship(screen_name=\"OnChainWizard\")) #print(api.create_friendship(user_id=\"783214\"))\n",
    "# # LIKE\n",
    "# print(api.create_favorite(\"1568829690693169152\"))\n",
    "# # RETWEET\n",
    "# print(api.retweet(\"1526067314877157379\"))"
   ]
  }
 ],
 "metadata": {
  "kernelspec": {
   "display_name": "Python 3",
   "language": "python",
   "name": "python3"
  },
  "language_info": {
   "codemirror_mode": {
    "name": "ipython",
    "version": 3
   },
   "file_extension": ".py",
   "mimetype": "text/x-python",
   "name": "python",
   "nbconvert_exporter": "python",
   "pygments_lexer": "ipython3",
   "version": "3.8.3"
  }
 },
 "nbformat": 4,
 "nbformat_minor": 4
}
