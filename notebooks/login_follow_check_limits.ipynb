{
 "cells": [
  {
   "cell_type": "code",
   "execution_count": 1,
   "id": "537c2ec1-00bd-4aa9-a570-2edfc44d2ef7",
   "metadata": {},
   "outputs": [],
   "source": [
    "from Twitter_Frontend_API import API\n",
    "from dotenv import load_dotenv,dotenv_values\n",
    "load_dotenv('..')\n",
    "config = dotenv_values()"
   ]
  },
  {
   "cell_type": "code",
   "execution_count": 2,
   "id": "7c1b6bf5-64aa-4eae-9646-feb68184781f",
   "metadata": {},
   "outputs": [],
   "source": [
    "from jsondiff import diff"
   ]
  },
  {
   "cell_type": "code",
   "execution_count": 3,
   "id": "d7c3ccfd-5f89-444e-8906-3b90e73f959f",
   "metadata": {},
   "outputs": [],
   "source": [
    "def check_remaining_diff(r1,r2):\n",
    "    d = diff(r1,r2)['resources']\n",
    "    for k,v in d.items():\n",
    "        for k1, v1 in d[k].items():\n",
    "            if 'remaining' in v1.keys():\n",
    "                print(k1,v1)\n",
    "                print('='*50)"
   ]
  },
  {
   "cell_type": "code",
   "execution_count": 4,
   "id": "ab1eebb0-122a-4caf-ae1f-d505e3a397ea",
   "metadata": {},
   "outputs": [
    {
     "name": "stdout",
     "output_type": "stream",
     "text": [
      "<html><body>You are being <a href=\"https://twitter.com/\">redirected</a>.</body></html>\n",
      "{'auth_token': '79ce3f061fad25eccecdfe849262df0d7600a17b', 'ct0': '36f471fec0dd227f34c1d6f144b23828'}\n"
     ]
    }
   ],
   "source": [
    "auth = {'auth_token': '----------------------------------------', 'ct0': '--------------------------------'}\n",
    "auth = API.Login(config['TWITTER_LOGIN'], config['TWITTER_PASS'])\n",
    "print(auth)\n",
    "\n",
    "api = API(auth)\n"
   ]
  },
  {
   "cell_type": "code",
   "execution_count": 6,
   "id": "a17cb920-8ef6-4828-8e96-badb3b440e07",
   "metadata": {},
   "outputs": [],
   "source": [
    "rate1 = api.rate_limit_status()"
   ]
  },
  {
   "cell_type": "code",
   "execution_count": 7,
   "id": "b2036f4e-f54d-4403-bcb8-abc58a23f3e2",
   "metadata": {},
   "outputs": [
    {
     "data": {
      "text/plain": [
       "{'errors': [{'code': 326,\n",
       "   'message': 'To protect our users from spam and other malicious activity, this account is temporarily locked. Please log in to https://twitter.com to unlock your account.',\n",
       "   'sub_error_code': 0,\n",
       "   'bounce_location': 'https://twitter.com/account/access'}]}"
      ]
     },
     "execution_count": 7,
     "metadata": {},
     "output_type": "execute_result"
    }
   ],
   "source": [
    "rate1"
   ]
  },
  {
   "cell_type": "code",
   "execution_count": null,
   "id": "c3b4a456-1f0f-4b84-9dbb-220a16299007",
   "metadata": {},
   "outputs": [],
   "source": [
    "api.create_friendship(user_id=\"783214\")"
   ]
  }
 ],
 "metadata": {
  "kernelspec": {
   "display_name": "Python 3 (ipykernel)",
   "language": "python",
   "name": "python3"
  },
  "language_info": {
   "codemirror_mode": {
    "name": "ipython",
    "version": 3
   },
   "file_extension": ".py",
   "mimetype": "text/x-python",
   "name": "python",
   "nbconvert_exporter": "python",
   "pygments_lexer": "ipython3",
   "version": "3.10.4"
  }
 },
 "nbformat": 4,
 "nbformat_minor": 5
}
