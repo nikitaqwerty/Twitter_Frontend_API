{
 "cells": [
  {
   "cell_type": "code",
   "execution_count": 1,
   "metadata": {},
   "outputs": [],
   "source": [
    "from Twitter_Frontend_API import Client\n",
    "from jsondiff import diff\n",
    "import requests\n",
    "\n",
    "def user_show_id(self, uid, include_entities=None, tweet_mode=None):\n",
    "    url = 'https://api.twitter.com/1.1/users/show.json?id=' + uid\n",
    "    if tweet_mode != None:\n",
    "        url = url + '&tweet_mode=' + tweet_mode\n",
    "    response = requests.get(url, headers=self.headers).json()\n",
    "    return response\n",
    "\n",
    "Client.user_show_id = user_show_id\n",
    "\n",
    "\n",
    "api = Client()\n",
    "\n",
    "# SetUp\n",
    "# print(api.generate_ct0())\n",
    "# print(api.generate_authenticity())\n",
    "# print(api.generate_token())"
   ]
  },
  {
   "cell_type": "code",
   "execution_count": 2,
   "metadata": {
    "scrolled": true,
    "tags": []
   },
   "outputs": [
    {
     "data": {
      "text/plain": [
       "{'id': 532561541,\n",
       " 'id_str': '532561541',\n",
       " 'name': 'Nikita',\n",
       " 'screen_name': 'Nikita_naprimer',\n",
       " 'location': 'Dubai, United Arab Emirates',\n",
       " 'profile_location': None,\n",
       " 'description': 'Solidity & Blockchain dev / co-founder @artisantnft /  NFTs + Digital Fashion + Data Science',\n",
       " 'url': None,\n",
       " 'entities': {'description': {'urls': []}},\n",
       " 'protected': False,\n",
       " 'followers_count': 1071,\n",
       " 'fast_followers_count': 0,\n",
       " 'normal_followers_count': 1071,\n",
       " 'friends_count': 1561,\n",
       " 'listed_count': 8,\n",
       " 'created_at': 'Wed Mar 21 21:12:45 +0000 2012',\n",
       " 'favourites_count': 482,\n",
       " 'utc_offset': None,\n",
       " 'time_zone': None,\n",
       " 'geo_enabled': True,\n",
       " 'verified': False,\n",
       " 'statuses_count': 152,\n",
       " 'media_count': 32,\n",
       " 'lang': None,\n",
       " 'status': {'created_at': 'Fri Sep 23 06:51:37 +0000 2022',\n",
       "  'id': 1573203413491384320,\n",
       "  'id_str': '1573203413491384320',\n",
       "  'text': 'Any good NFT project with strong community, good roadmap and decent team under 1 ETH to buy right now?',\n",
       "  'truncated': False,\n",
       "  'entities': {'hashtags': [], 'symbols': [], 'user_mentions': [], 'urls': []},\n",
       "  'source': '<a href=\"https://mobile.twitter.com\" rel=\"nofollow\">Twitter Web App</a>',\n",
       "  'in_reply_to_status_id': None,\n",
       "  'in_reply_to_status_id_str': None,\n",
       "  'in_reply_to_user_id': None,\n",
       "  'in_reply_to_user_id_str': None,\n",
       "  'in_reply_to_screen_name': None,\n",
       "  'geo': None,\n",
       "  'coordinates': None,\n",
       "  'place': None,\n",
       "  'contributors': None,\n",
       "  'is_quote_status': False,\n",
       "  'retweet_count': 0,\n",
       "  'favorite_count': 3,\n",
       "  'favorited': False,\n",
       "  'retweeted': False,\n",
       "  'lang': 'en',\n",
       "  'supplemental_language': None},\n",
       " 'contributors_enabled': False,\n",
       " 'is_translator': False,\n",
       " 'is_translation_enabled': False,\n",
       " 'profile_background_color': '709397',\n",
       " 'profile_background_image_url': 'http://abs.twimg.com/images/themes/theme1/bg.png',\n",
       " 'profile_background_image_url_https': 'https://abs.twimg.com/images/themes/theme1/bg.png',\n",
       " 'profile_background_tile': True,\n",
       " 'profile_image_url': 'http://pbs.twimg.com/profile_images/1487075104072818693/qyKobc_s_normal.jpg',\n",
       " 'profile_image_url_https': 'https://pbs.twimg.com/profile_images/1487075104072818693/qyKobc_s_normal.jpg',\n",
       " 'profile_banner_url': 'https://pbs.twimg.com/profile_banners/532561541/1643382952',\n",
       " 'profile_link_color': 'FF3300',\n",
       " 'profile_sidebar_border_color': '000000',\n",
       " 'profile_sidebar_fill_color': 'DDEEF6',\n",
       " 'profile_text_color': '333333',\n",
       " 'profile_use_background_image': True,\n",
       " 'has_extended_profile': False,\n",
       " 'default_profile': False,\n",
       " 'default_profile_image': False,\n",
       " 'pinned_tweet_ids': [],\n",
       " 'pinned_tweet_ids_str': [],\n",
       " 'has_custom_timelines': False,\n",
       " 'following': None,\n",
       " 'follow_request_sent': None,\n",
       " 'notifications': None,\n",
       " 'advertiser_account_type': 'promotable_user',\n",
       " 'advertiser_account_service_levels': [],\n",
       " 'business_profile_state': 'none',\n",
       " 'translator_type': 'none',\n",
       " 'withheld_in_countries': [],\n",
       " 'require_some_consent': False}"
      ]
     },
     "execution_count": 2,
     "metadata": {},
     "output_type": "execute_result"
    }
   ],
   "source": [
    "out = api.user_show(\"nikita_naprimer\")\n",
    "out"
   ]
  },
  {
   "cell_type": "code",
   "execution_count": 3,
   "metadata": {},
   "outputs": [
    {
     "data": {
      "text/plain": [
       "{'id': 532561541,\n",
       " 'id_str': '532561541',\n",
       " 'name': 'Nikita',\n",
       " 'screen_name': 'Nikita_naprimer',\n",
       " 'location': 'Dubai, United Arab Emirates',\n",
       " 'profile_location': None,\n",
       " 'description': 'Solidity & Blockchain dev / co-founder @artisantnft /  NFTs + Digital Fashion + Data Science',\n",
       " 'url': None,\n",
       " 'entities': {'description': {'urls': []}},\n",
       " 'protected': False,\n",
       " 'followers_count': 1071,\n",
       " 'fast_followers_count': 0,\n",
       " 'normal_followers_count': 1071,\n",
       " 'friends_count': 1561,\n",
       " 'listed_count': 8,\n",
       " 'created_at': 'Wed Mar 21 21:12:45 +0000 2012',\n",
       " 'favourites_count': 482,\n",
       " 'utc_offset': None,\n",
       " 'time_zone': None,\n",
       " 'geo_enabled': True,\n",
       " 'verified': False,\n",
       " 'statuses_count': 152,\n",
       " 'media_count': 32,\n",
       " 'lang': None,\n",
       " 'status': {'created_at': 'Fri Sep 23 06:51:37 +0000 2022',\n",
       "  'id': 1573203413491384320,\n",
       "  'id_str': '1573203413491384320',\n",
       "  'text': 'Any good NFT project with strong community, good roadmap and decent team under 1 ETH to buy right now?',\n",
       "  'truncated': False,\n",
       "  'entities': {'hashtags': [], 'symbols': [], 'user_mentions': [], 'urls': []},\n",
       "  'source': '<a href=\"https://mobile.twitter.com\" rel=\"nofollow\">Twitter Web App</a>',\n",
       "  'in_reply_to_status_id': None,\n",
       "  'in_reply_to_status_id_str': None,\n",
       "  'in_reply_to_user_id': None,\n",
       "  'in_reply_to_user_id_str': None,\n",
       "  'in_reply_to_screen_name': None,\n",
       "  'geo': None,\n",
       "  'coordinates': None,\n",
       "  'place': None,\n",
       "  'contributors': None,\n",
       "  'is_quote_status': False,\n",
       "  'retweet_count': 0,\n",
       "  'favorite_count': 3,\n",
       "  'favorited': False,\n",
       "  'retweeted': False,\n",
       "  'lang': 'en',\n",
       "  'supplemental_language': None},\n",
       " 'contributors_enabled': False,\n",
       " 'is_translator': False,\n",
       " 'is_translation_enabled': False,\n",
       " 'profile_background_color': '709397',\n",
       " 'profile_background_image_url': 'http://abs.twimg.com/images/themes/theme1/bg.png',\n",
       " 'profile_background_image_url_https': 'https://abs.twimg.com/images/themes/theme1/bg.png',\n",
       " 'profile_background_tile': True,\n",
       " 'profile_image_url': 'http://pbs.twimg.com/profile_images/1487075104072818693/qyKobc_s_normal.jpg',\n",
       " 'profile_image_url_https': 'https://pbs.twimg.com/profile_images/1487075104072818693/qyKobc_s_normal.jpg',\n",
       " 'profile_banner_url': 'https://pbs.twimg.com/profile_banners/532561541/1643382952',\n",
       " 'profile_link_color': 'FF3300',\n",
       " 'profile_sidebar_border_color': '000000',\n",
       " 'profile_sidebar_fill_color': 'DDEEF6',\n",
       " 'profile_text_color': '333333',\n",
       " 'profile_use_background_image': True,\n",
       " 'has_extended_profile': False,\n",
       " 'default_profile': False,\n",
       " 'default_profile_image': False,\n",
       " 'pinned_tweet_ids': [],\n",
       " 'pinned_tweet_ids_str': [],\n",
       " 'has_custom_timelines': False,\n",
       " 'following': None,\n",
       " 'follow_request_sent': None,\n",
       " 'notifications': None,\n",
       " 'advertiser_account_type': 'promotable_user',\n",
       " 'advertiser_account_service_levels': [],\n",
       " 'business_profile_state': 'none',\n",
       " 'translator_type': 'none',\n",
       " 'withheld_in_countries': [],\n",
       " 'require_some_consent': False}"
      ]
     },
     "execution_count": 3,
     "metadata": {},
     "output_type": "execute_result"
    }
   ],
   "source": [
    "api.user_show_id(\"532561541\")"
   ]
  },
  {
   "cell_type": "code",
   "execution_count": null,
   "metadata": {},
   "outputs": [],
   "source": []
  },
  {
   "cell_type": "code",
   "execution_count": null,
   "metadata": {},
   "outputs": [],
   "source": []
  },
  {
   "cell_type": "code",
   "execution_count": null,
   "metadata": {},
   "outputs": [],
   "source": []
  },
  {
   "cell_type": "code",
   "execution_count": null,
   "metadata": {},
   "outputs": [],
   "source": [
    "rate1 = api.rate_limit_status()"
   ]
  },
  {
   "cell_type": "code",
   "execution_count": null,
   "metadata": {},
   "outputs": [],
   "source": []
  },
  {
   "cell_type": "code",
   "execution_count": null,
   "metadata": {},
   "outputs": [],
   "source": []
  },
  {
   "cell_type": "code",
   "execution_count": null,
   "metadata": {},
   "outputs": [],
   "source": [
    "api.user_show_id = user_show_id"
   ]
  },
  {
   "cell_type": "code",
   "execution_count": null,
   "metadata": {},
   "outputs": [],
   "source": [
    "api.user_show_id(api,'532561541')"
   ]
  },
  {
   "cell_type": "code",
   "execution_count": null,
   "metadata": {
    "scrolled": true,
    "tags": []
   },
   "outputs": [],
   "source": [
    "out"
   ]
  },
  {
   "cell_type": "code",
   "execution_count": null,
   "metadata": {},
   "outputs": [],
   "source": [
    "out = api.user_show(\"532561541\")"
   ]
  },
  {
   "cell_type": "code",
   "execution_count": null,
   "metadata": {},
   "outputs": [],
   "source": [
    "out"
   ]
  },
  {
   "cell_type": "code",
   "execution_count": null,
   "metadata": {},
   "outputs": [],
   "source": [
    "rate2 = api.rate_limit_status()"
   ]
  },
  {
   "cell_type": "code",
   "execution_count": null,
   "metadata": {},
   "outputs": [],
   "source": [
    "def check_remaining_diff(r1,r2):\n",
    "    d = diff(r1,r2)['resources']\n",
    "    for k,v in d.items():\n",
    "        for k1, v1 in d[k].items():\n",
    "            if 'remaining' in v1.keys():\n",
    "                print(k1,v1)\n",
    "                print('='*50)"
   ]
  },
  {
   "cell_type": "code",
   "execution_count": null,
   "metadata": {
    "scrolled": true,
    "tags": []
   },
   "outputs": [],
   "source": [
    "check_remaining_diff(rate1,rate2)"
   ]
  },
  {
   "cell_type": "code",
   "execution_count": null,
   "metadata": {},
   "outputs": [],
   "source": [
    "out = api.user_show(\"nikita_naprimer\")\n",
    "rate2 = api.rate_limit_status()\n",
    "check_remaining_diff(rate1,rate2)"
   ]
  },
  {
   "cell_type": "code",
   "execution_count": null,
   "metadata": {},
   "outputs": [],
   "source": []
  },
  {
   "cell_type": "code",
   "execution_count": null,
   "metadata": {},
   "outputs": [],
   "source": [
    "out = api.user_show(\"rtfkt\")\n",
    "rate2 = api.rate_limit_status()\n",
    "check_remaining_diff(rate1,rate2)"
   ]
  },
  {
   "cell_type": "code",
   "execution_count": null,
   "metadata": {},
   "outputs": [],
   "source": [
    "out = api.user_show(\"elon\")\n",
    "rate2 = api.rate_limit_status()\n",
    "check_remaining_diff(rate1,rate2)"
   ]
  },
  {
   "cell_type": "code",
   "execution_count": null,
   "metadata": {},
   "outputs": [],
   "source": [
    "api = Client()\n",
    "out = api.user_show(\"elon\")\n",
    "rate3 = api.rate_limit_status()\n",
    "check_remaining_diff(rate2,rate3)"
   ]
  },
  {
   "cell_type": "code",
   "execution_count": null,
   "metadata": {},
   "outputs": [],
   "source": [
    "api = Client()\n",
    "out = api.user_show(\"elon1\")\n",
    "rate4 = api.rate_limit_status()\n",
    "check_remaining_diff(rate3,rate4)"
   ]
  },
  {
   "cell_type": "code",
   "execution_count": null,
   "metadata": {},
   "outputs": [],
   "source": []
  },
  {
   "cell_type": "code",
   "execution_count": null,
   "metadata": {},
   "outputs": [],
   "source": [
    "rate1['resources']['lists']['/lists/list'] , rate2['resources']['lists']['/lists/list']"
   ]
  },
  {
   "cell_type": "code",
   "execution_count": null,
   "metadata": {},
   "outputs": [],
   "source": [
    "out = api.followers_ids(\"RTFKT\")"
   ]
  },
  {
   "cell_type": "code",
   "execution_count": null,
   "metadata": {
    "scrolled": true
   },
   "outputs": [],
   "source": [
    "out"
   ]
  },
  {
   "cell_type": "code",
   "execution_count": null,
   "metadata": {},
   "outputs": [],
   "source": [
    "import json"
   ]
  },
  {
   "cell_type": "code",
   "execution_count": null,
   "metadata": {},
   "outputs": [],
   "source": [
    "with open(\"../outputs/rtfkt_ids.json\",\"w\") as f:\n",
    "    json.dump(out, f)"
   ]
  },
  {
   "cell_type": "code",
   "execution_count": null,
   "metadata": {},
   "outputs": [],
   "source": [
    "out = api.followers_list(\"RTFKT\")"
   ]
  },
  {
   "cell_type": "code",
   "execution_count": null,
   "metadata": {},
   "outputs": [],
   "source": [
    "with open(\"../outputs/rtfkt_names.json\",\"w\") as f:\n",
    "    json.dump(out, f)"
   ]
  },
  {
   "cell_type": "code",
   "execution_count": null,
   "metadata": {},
   "outputs": [],
   "source": [
    "out = api.followers_ids(\"RTFKT\",cursor=\"1743356371064393510\")"
   ]
  },
  {
   "cell_type": "code",
   "execution_count": null,
   "metadata": {},
   "outputs": [],
   "source": [
    "with open(\"../outputs/rtfkt_ids_2.json\",\"w\") as f:\n",
    "    json.dump(out, f)"
   ]
  },
  {
   "cell_type": "code",
   "execution_count": null,
   "metadata": {},
   "outputs": [],
   "source": []
  }
 ],
 "metadata": {
  "kernelspec": {
   "display_name": "Python 3 (ipykernel)",
   "language": "python",
   "name": "python3"
  },
  "language_info": {
   "codemirror_mode": {
    "name": "ipython",
    "version": 3
   },
   "file_extension": ".py",
   "mimetype": "text/x-python",
   "name": "python",
   "nbconvert_exporter": "python",
   "pygments_lexer": "ipython3",
   "version": "3.10.4"
  }
 },
 "nbformat": 4,
 "nbformat_minor": 4
}
