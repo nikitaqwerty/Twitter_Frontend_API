{
 "cells": [
  {
   "cell_type": "code",
   "execution_count": 1,
   "metadata": {},
   "outputs": [],
   "source": [
    "from Twitter_Frontend_API import Client\n",
    "from jsondiff import diff\n",
    "api = Client()\n",
    "\n",
    "# SetUp\n",
    "# print(api.generate_ct0())\n",
    "# print(api.generate_authenticity())\n",
    "# print(api.generate_token())"
   ]
  },
  {
   "cell_type": "code",
   "execution_count": 2,
   "metadata": {},
   "outputs": [],
   "source": [
    "rate1 = api.rate_limit_status()"
   ]
  },
  {
   "cell_type": "code",
   "execution_count": 3,
   "metadata": {},
   "outputs": [],
   "source": [
    "out = api.user_show(\"nikita_naprimer\")"
   ]
  },
  {
   "cell_type": "code",
   "execution_count": 4,
   "metadata": {},
   "outputs": [],
   "source": [
    "rate2 = api.rate_limit_status()"
   ]
  },
  {
   "cell_type": "code",
   "execution_count": 5,
   "metadata": {},
   "outputs": [],
   "source": [
    "def check_remaining_diff(r1,r2):\n",
    "    d = diff(r1,r2)['resources']\n",
    "    for k,v in d.items():\n",
    "        for k1, v1 in d[k].items():\n",
    "            if 'remaining' in v1.keys():\n",
    "                print(k1,v1)\n",
    "                print('='*50)"
   ]
  },
  {
   "cell_type": "code",
   "execution_count": 6,
   "metadata": {
    "scrolled": true,
    "tags": []
   },
   "outputs": [
    {
     "name": "stdout",
     "output_type": "stream",
     "text": [
      "/followers/list {'remaining': 29322}\n",
      "==================================================\n",
      "/statuses/show/:id {'remaining': 999545}\n",
      "==================================================\n"
     ]
    }
   ],
   "source": [
    "check_remaining_diff(rate1,rate2)"
   ]
  },
  {
   "cell_type": "code",
   "execution_count": 7,
   "metadata": {},
   "outputs": [
    {
     "name": "stdout",
     "output_type": "stream",
     "text": [
      "/followers/list {'remaining': 29322}\n",
      "==================================================\n",
      "/statuses/show/:id {'remaining': 999543}\n",
      "==================================================\n"
     ]
    }
   ],
   "source": [
    "out = api.user_show(\"nikita_naprimer\")\n",
    "rate2 = api.rate_limit_status()\n",
    "check_remaining_diff(rate1,rate2)"
   ]
  },
  {
   "cell_type": "code",
   "execution_count": null,
   "metadata": {},
   "outputs": [],
   "source": []
  },
  {
   "cell_type": "code",
   "execution_count": 9,
   "metadata": {},
   "outputs": [
    {
     "name": "stdout",
     "output_type": "stream",
     "text": [
      "/followers/list {'remaining': 29287}\n",
      "==================================================\n",
      "/statuses/show/:id {'remaining': 999492}\n",
      "==================================================\n",
      "/search/tweets {'remaining': 357}\n",
      "==================================================\n"
     ]
    }
   ],
   "source": [
    "out = api.user_show(\"rtfkt\")\n",
    "rate2 = api.rate_limit_status()\n",
    "check_remaining_diff(rate1,rate2)"
   ]
  },
  {
   "cell_type": "code",
   "execution_count": 10,
   "metadata": {},
   "outputs": [
    {
     "name": "stdout",
     "output_type": "stream",
     "text": [
      "/followers/list {'remaining': 29275}\n",
      "==================================================\n",
      "/statuses/show/:id {'remaining': 999482}\n",
      "==================================================\n",
      "/search/tweets {'remaining': 351}\n",
      "==================================================\n"
     ]
    }
   ],
   "source": [
    "out = api.user_show(\"elon\")\n",
    "rate2 = api.rate_limit_status()\n",
    "check_remaining_diff(rate1,rate2)"
   ]
  },
  {
   "cell_type": "code",
   "execution_count": 11,
   "metadata": {},
   "outputs": [
    {
     "name": "stdout",
     "output_type": "stream",
     "text": [
      "/users/lookup {'remaining': 296}\n",
      "==================================================\n",
      "/followers/list {'remaining': 29953, 'reset': 1663836316}\n",
      "==================================================\n",
      "/statuses/show/:id {'remaining': 999180}\n",
      "==================================================\n",
      "/search/tweets {'remaining': 426, 'reset': 1663836228}\n",
      "==================================================\n",
      "/trends/place {'remaining': 179, 'reset': 1663836301}\n",
      "==================================================\n"
     ]
    }
   ],
   "source": [
    "api = Client()\n",
    "out = api.user_show(\"elon\")\n",
    "rate3 = api.rate_limit_status()\n",
    "check_remaining_diff(rate2,rate3)"
   ]
  },
  {
   "cell_type": "code",
   "execution_count": 13,
   "metadata": {},
   "outputs": [
    {
     "name": "stdout",
     "output_type": "stream",
     "text": [
      "/followers/list {'remaining': 29823}\n",
      "==================================================\n",
      "/statuses/show/:id {'remaining': 998958}\n",
      "==================================================\n",
      "/statuses/lookup {'remaining': 234}\n",
      "==================================================\n"
     ]
    }
   ],
   "source": [
    "api = Client()\n",
    "out = api.user_show(\"elon1\")\n",
    "rate4 = api.rate_limit_status()\n",
    "check_remaining_diff(rate3,rate4)"
   ]
  },
  {
   "cell_type": "code",
   "execution_count": null,
   "metadata": {},
   "outputs": [],
   "source": []
  },
  {
   "cell_type": "code",
   "execution_count": null,
   "metadata": {},
   "outputs": [],
   "source": [
    "rate1['resources']['lists']['/lists/list'] , rate2['resources']['lists']['/lists/list']"
   ]
  },
  {
   "cell_type": "code",
   "execution_count": null,
   "metadata": {},
   "outputs": [],
   "source": [
    "out = api.followers_ids(\"RTFKT\")"
   ]
  },
  {
   "cell_type": "code",
   "execution_count": null,
   "metadata": {
    "scrolled": true
   },
   "outputs": [],
   "source": [
    "out"
   ]
  },
  {
   "cell_type": "code",
   "execution_count": null,
   "metadata": {},
   "outputs": [],
   "source": [
    "import json"
   ]
  },
  {
   "cell_type": "code",
   "execution_count": null,
   "metadata": {},
   "outputs": [],
   "source": [
    "with open(\"../outputs/rtfkt_ids.json\",\"w\") as f:\n",
    "    json.dump(out, f)"
   ]
  },
  {
   "cell_type": "code",
   "execution_count": null,
   "metadata": {},
   "outputs": [],
   "source": [
    "out = api.followers_list(\"RTFKT\")"
   ]
  },
  {
   "cell_type": "code",
   "execution_count": null,
   "metadata": {},
   "outputs": [],
   "source": [
    "with open(\"../outputs/rtfkt_names.json\",\"w\") as f:\n",
    "    json.dump(out, f)"
   ]
  },
  {
   "cell_type": "code",
   "execution_count": null,
   "metadata": {},
   "outputs": [],
   "source": [
    "out = api.followers_ids(\"RTFKT\",cursor=\"1743356371064393510\")"
   ]
  },
  {
   "cell_type": "code",
   "execution_count": null,
   "metadata": {},
   "outputs": [],
   "source": [
    "with open(\"../outputs/rtfkt_ids_2.json\",\"w\") as f:\n",
    "    json.dump(out, f)"
   ]
  },
  {
   "cell_type": "code",
   "execution_count": null,
   "metadata": {},
   "outputs": [],
   "source": []
  }
 ],
 "metadata": {
  "kernelspec": {
   "display_name": "Python 3 (ipykernel)",
   "language": "python",
   "name": "python3"
  },
  "language_info": {
   "codemirror_mode": {
    "name": "ipython",
    "version": 3
   },
   "file_extension": ".py",
   "mimetype": "text/x-python",
   "name": "python",
   "nbconvert_exporter": "python",
   "pygments_lexer": "ipython3",
   "version": "3.10.4"
  }
 },
 "nbformat": 4,
 "nbformat_minor": 4
}
